{
 "cells": [
  {
   "cell_type": "code",
   "execution_count": 1,
   "metadata": {},
   "outputs": [
    {
     "name": "stdout",
     "output_type": "stream",
     "text": [
      "[[ 3. -6.]\n",
      " [ 5.  7.]]\n"
     ]
    }
   ],
   "source": [
    "#numpy Modle\n",
    "#Creating an array\n",
    "from numpy import array\n",
    "a=array([[3.0,-6.0],[5.0,7.0]])\n",
    "print(a)"
   ]
  },
  {
   "cell_type": "code",
   "execution_count": 2,
   "metadata": {},
   "outputs": [
    {
     "name": "stdout",
     "output_type": "stream",
     "text": [
      "[ 3  6  9 12]\n"
     ]
    }
   ],
   "source": [
    "from numpy import *\n",
    "print(arange(3,15,3))"
   ]
  },
  {
   "cell_type": "code",
   "execution_count": 3,
   "metadata": {},
   "outputs": [
    {
     "name": "stdout",
     "output_type": "stream",
     "text": [
      "[1. 1. 1. 1.]\n"
     ]
    }
   ],
   "source": [
    "print(ones(4))"
   ]
  },
  {
   "cell_type": "code",
   "execution_count": 4,
   "metadata": {},
   "outputs": [
    {
     "name": "stdout",
     "output_type": "stream",
     "text": [
      "[[0 0 0]\n",
      " [0 0 0]\n",
      " [0 0 0]]\n",
      "[[ 5 70 45]\n",
      " [ 0  6  0]\n",
      " [54 67  0]]\n"
     ]
    }
   ],
   "source": [
    "from numpy import *\n",
    "a=zeros((3,3),int)\n",
    "print(a)\n",
    "a[0]=[5,70,45]\n",
    "a[1,1]=6\n",
    "a[2,0:2]=[54,67]\n",
    "print(a)"
   ]
  },
  {
   "cell_type": "code",
   "execution_count": 5,
   "metadata": {},
   "outputs": [
    {
     "name": "stdout",
     "output_type": "stream",
     "text": [
      "[1.83333333 0.33333333 1.53333333 5.        ]\n",
      "[2.34520788 1.         2.14476106 3.87298335]\n",
      "[ 0.70866977  0.54030231 -0.11215253 -0.75968791]\n"
     ]
    }
   ],
   "source": [
    "#Operations on Arrays\n",
    "from numpy import array\n",
    "z=array([5.5,1.0,4.6,15.0])\n",
    "print(z/3.0)\n",
    "print(sqrt(z))\n",
    "print(cos(z))"
   ]
  },
  {
   "cell_type": "code",
   "execution_count": 6,
   "metadata": {},
   "outputs": [
    {
     "name": "stdout",
     "output_type": "stream",
     "text": [
      "6.708203932499369\n"
     ]
    }
   ],
   "source": [
    "from numpy import array\n",
    "from math import sqrt\n",
    "y=array([45.0,67.0,1])\n",
    "print(sqrt(y[0]))"
   ]
  },
  {
   "cell_type": "code",
   "execution_count": 7,
   "metadata": {},
   "outputs": [
    {
     "name": "stdout",
     "output_type": "stream",
     "text": [
      "[5.9 8. ]\n",
      "9.0\n"
     ]
    }
   ],
   "source": [
    "from numpy import *\n",
    "C=array([[1.5,5.9,0.0],[7.1,4.6,8.0],[12.0,34,2.9]])\n",
    "print(diagonal(C,1 ))\n",
    "print(trace(C))"
   ]
  },
  {
   "cell_type": "code",
   "execution_count": 8,
   "metadata": {},
   "outputs": [
    {
     "name": "stdout",
     "output_type": "stream",
     "text": [
      "[[1. 0. 0.]\n",
      " [0. 1. 0.]\n",
      " [0. 0. 1.]]\n"
     ]
    }
   ],
   "source": [
    "#Identity Matrix\n",
    "print(identity(3))"
   ]
  },
  {
   "cell_type": "code",
   "execution_count": null,
   "metadata": {},
   "outputs": [],
   "source": []
  }
 ],
 "metadata": {
  "kernelspec": {
   "display_name": "Python 3",
   "language": "python",
   "name": "python3"
  },
  "language_info": {
   "codemirror_mode": {
    "name": "ipython",
    "version": 3
   },
   "file_extension": ".py",
   "mimetype": "text/x-python",
   "name": "python",
   "nbconvert_exporter": "python",
   "pygments_lexer": "ipython3",
   "version": "3.6.7"
  }
 },
 "nbformat": 4,
 "nbformat_minor": 2
}
