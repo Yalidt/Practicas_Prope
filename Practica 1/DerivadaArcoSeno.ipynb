{
 "cells": [
  {
   "cell_type": "code",
   "execution_count": 2,
   "metadata": {},
   "outputs": [
    {
     "name": "stdout",
     "output_type": "stream",
     "text": [
      "-1.154739033530916 Primera derivada\n",
      "-0.7701083548639076 Segunda derivada\n"
     ]
    }
   ],
   "source": [
    "#Ejercicio Derivada ArcoSeno\n",
    "#Aproximación hacia adelante\n",
    "import math\n",
    "def df_hacia_adelante(f,x,h =.0001):\n",
    "    df=(f(x+h)-f(x))/h\n",
    "    ddf=(f(x+2.0*h)-2.0*(f(x+h))+f(x))/h**2.0\n",
    "    return df,ddf\n",
    "from math import acos\n",
    "#Dando valores\n",
    "x=.5\n",
    "df,ddf=df_hacia_adelante(acos,x)\n",
    "print(df,'Primera derivada')\n",
    "print(ddf,'Segunda derivada')"
   ]
  },
  {
   "cell_type": "code",
   "execution_count": null,
   "metadata": {},
   "outputs": [],
   "source": []
  }
 ],
 "metadata": {
  "kernelspec": {
   "display_name": "Python 3",
   "language": "python",
   "name": "python3"
  },
  "language_info": {
   "codemirror_mode": {
    "name": "ipython",
    "version": 3
   },
   "file_extension": ".py",
   "mimetype": "text/x-python",
   "name": "python",
   "nbconvert_exporter": "python",
   "pygments_lexer": "ipython3",
   "version": "3.6.7"
  }
 },
 "nbformat": 4,
 "nbformat_minor": 2
}
