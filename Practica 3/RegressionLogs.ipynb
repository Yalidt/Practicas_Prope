{
 "cells": [
  {
   "cell_type": "markdown",
   "metadata": {},
   "source": [
    "Ajusta por mínimos cuadrados dos modelos de la forma:\n",
    "\n",
    "Realiza una gráfica que involucre los datos y los dos modelos. Calcula el ECM de ambos modelos y responde ¿cuál es el modelo con menor ECM?"
   ]
  },
  {
   "cell_type": "markdown",
   "metadata": {},
   "source": [
    "$$\n",
    "1)    log(y) = log(b) + alog(x)\n",
    "$$$$\n",
    "2)    log(y) = log(b) + alog(x) + c(log(x))^2\n",
    "$$"
   ]
  },
  {
   "cell_type": "code",
   "execution_count": 3,
   "metadata": {},
   "outputs": [],
   "source": [
    "#Importamos las librerias\n",
    "import numpy as np\n",
    "import matplotlib.pyplot as plt \n",
    "import pprint\n",
    "np.set_printoptions(precision = 2)"
   ]
  },
  {
   "cell_type": "code",
   "execution_count": 5,
   "metadata": {},
   "outputs": [],
   "source": [
    "datos=np.loadtxt('datos_para_tarea_minimos_cuadrados.txt', skiprows=1)"
   ]
  },
  {
   "cell_type": "code",
   "execution_count": 6,
   "metadata": {},
   "outputs": [
    {
     "data": {
      "text/plain": [
       "Text(0.5, 1.0, 'datos')"
      ]
     },
     "execution_count": 6,
     "metadata": {},
     "output_type": "execute_result"
    },
    {
     "data": {
      "image/png": "[encoded data removed]",
      "text/plain": [
       "<Figure size 432x288 with 1 Axes>"
      ]
     },
     "metadata": {
      "needs_background": "light"
     },
     "output_type": "display_data"
    }
   ],
   "source": [
    "x = datos[:,0]\n",
    "y = datos[:,1]\n",
    "plt.plot(x, y, 'r^')\n",
    "plt.legend(['datos'], loc='best')\n",
    "plt.title('datos')"
   ]
  },
  {
   "cell_type": "markdown",
   "metadata": {},
   "source": [
    "## Modelo 1"
   ]
  },
  {
   "cell_type": "markdown",
   "metadata": {},
   "source": [
    "1)    log(y) = log(b) + alog(x)"
   ]
  },
  {
   "cell_type": "code",
   "execution_count": 7,
   "metadata": {},
   "outputs": [
    {
     "name": "stdout",
     "output_type": "stream",
     "text": [
      "betas\n",
      "array([0.26, 0.58])\n"
     ]
    }
   ],
   "source": [
    "#Modelo1\n",
    "modelo_1=lambda var: np.log(var)\n",
    "z=np.log(y)\n",
    "mpoints,=x.shape\n",
    "A=np.ones((mpoints,2))\n",
    "A[:,1]=modelo_1(x)\n",
    "Q,R=np.linalg.qr(A)\n",
    "betas=np.linalg.solve(R,Q.T@z)\n",
    "print('betas')\n",
    "pprint.pprint(betas)"
   ]
  },
  {
   "cell_type": "code",
   "execution_count": 8,
   "metadata": {},
   "outputs": [
    {
     "data": {
      "text/plain": [
       "<matplotlib.legend.Legend at 0x119083828>"
      ]
     },
     "execution_count": 8,
     "metadata": {},
     "output_type": "execute_result"
    },
    {
     "data": {
      "image/png": "[encoded data removed]",
      "text/plain": [
       "<Figure size 432x288 with 1 Axes>"
      ]
     },
     "metadata": {
      "needs_background": "light"
     },
     "output_type": "display_data"
    }
   ],
   "source": [
    "y_gorro1_QR= betas[0] + betas[1]*modelo_1(x)\n",
    "plt.plot(np.log(x),y_gorro1_QR,'k-',np.log(x) ,np.log(y),'r^')\n",
    "plt.legend(['modelo1','datos'], loc='best')"
   ]
  },
  {
   "cell_type": "markdown",
   "metadata": {},
   "source": [
    "## Modelo 2"
   ]
  },
  {
   "cell_type": "markdown",
   "metadata": {},
   "source": [
    "2)    log(y) = log(b) + alog(x) + c(log(x))^2"
   ]
  },
  {
   "cell_type": "code",
   "execution_count": 27,
   "metadata": {},
   "outputs": [
    {
     "name": "stdout",
     "output_type": "stream",
     "text": [
      "betas\n",
      "array([0.05, 0.7 , 0.07])\n"
     ]
    }
   ],
   "source": [
    "#Modelo2\n",
    "phi_1=lambda var: np.log(var)\n",
    "phi_2=lambda var: (np.log(var))**2\n",
    "z=np.log(y)\n",
    "mpoints,=x.shape\n",
    "A=np.ones((mpoints,3)) \n",
    "A[:,1]=phi_1(x)\n",
    "A[:,2]=phi_2(x)\n",
    "Q,R=np.linalg.qr(A)\n",
    "betas_A=np.linalg.solve(R,Q.T@z)\n",
    "print('betas')\n",
    "pprint.pprint(betas_A)"
   ]
  },
  {
   "cell_type": "code",
   "execution_count": 42,
   "metadata": {},
   "outputs": [
    {
     "data": {
      "text/plain": [
       "<matplotlib.legend.Legend at 0x11afdd710>"
      ]
     },
     "execution_count": 42,
     "metadata": {},
     "output_type": "execute_result"
    },
    {
     "data": {
      "image/png": "[encoded data removed]",
      "text/plain": [
       "<Figure size 432x288 with 1 Axes>"
      ]
     },
     "metadata": {
      "needs_background": "light"
     },
     "output_type": "display_data"
    }
   ],
   "source": [
    "y_gorro2_QR=betas_A[0] + betas_A[1]*phi_1(x)+betas_A[2]*phi_2(x)\n",
    "plt.plot(np.log(x),y_gorro2_QR,'k*',np.log(x),np.log(y),'r^')\n",
    "plt.legend(['modelo2','datos'], loc='best')"
   ]
  },
  {
   "cell_type": "code",
   "execution_count": null,
   "metadata": {},
   "outputs": [],
   "source": []
  }
 ],
 "metadata": {
  "kernelspec": {
   "display_name": "Python 3",
   "language": "python",
   "name": "python3"
  },
  "language_info": {
   "codemirror_mode": {
    "name": "ipython",
    "version": 3
   },
   "file_extension": ".py",
   "mimetype": "text/x-python",
   "name": "python",
   "nbconvert_exporter": "python",
   "pygments_lexer": "ipython3",
   "version": "3.7.3"
  }
 },
 "nbformat": 4,
 "nbformat_minor": 2
}
