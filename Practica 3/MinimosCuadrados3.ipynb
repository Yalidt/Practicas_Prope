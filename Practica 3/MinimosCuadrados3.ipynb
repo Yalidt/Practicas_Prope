{
 "cells": [
  {
   "cell_type": "code",
   "execution_count": 1,
   "metadata": {},
   "outputs": [],
   "source": [
    "import numpy as np\n",
    "import matplotlib.pyplot as plt \n",
    "import pprint\n",
    "np.set_printoptions(precision = 2)"
   ]
  },
  {
   "cell_type": "code",
   "execution_count": 14,
   "metadata": {},
   "outputs": [],
   "source": [
    "#Con factorizacion QR\n",
    "#construimos a la matriz A:\n",
    "np.random.seed(1989) #para reproducibilidad\n",
    "mpoints = 20\n",
    "A=np.ones((mpoints,2))\n",
    "x = np.random.randn(mpoints) \n",
    "y = -3*x + np.random.normal(2,1,mpoints)"
   ]
  },
  {
   "cell_type": "code",
   "execution_count": 15,
   "metadata": {},
   "outputs": [],
   "source": [
    "A[:,1]=x"
   ]
  },
  {
   "cell_type": "code",
   "execution_count": 16,
   "metadata": {},
   "outputs": [
    {
     "data": {
      "text/plain": [
       "array([[ 1.  , -0.26],\n",
       "       [ 1.  ,  0.09],\n",
       "       [ 1.  ,  0.43],\n",
       "       [ 1.  ,  0.9 ],\n",
       "       [ 1.  ,  0.56],\n",
       "       [ 1.  ,  0.44],\n",
       "       [ 1.  ,  0.38],\n",
       "       [ 1.  , -0.15],\n",
       "       [ 1.  ,  0.78],\n",
       "       [ 1.  , -0.02],\n",
       "       [ 1.  ,  1.61],\n",
       "       [ 1.  , -0.37],\n",
       "       [ 1.  ,  0.36],\n",
       "       [ 1.  ,  0.17],\n",
       "       [ 1.  ,  2.52],\n",
       "       [ 1.  ,  0.14],\n",
       "       [ 1.  ,  1.16],\n",
       "       [ 1.  ,  0.59],\n",
       "       [ 1.  , -1.2 ],\n",
       "       [ 1.  , -0.37]])"
      ]
     },
     "execution_count": 16,
     "metadata": {},
     "output_type": "execute_result"
    }
   ],
   "source": [
    "A"
   ]
  },
  {
   "cell_type": "code",
   "execution_count": 17,
   "metadata": {},
   "outputs": [],
   "source": [
    "Q,R = np.linalg.qr(A)"
   ]
  },
  {
   "cell_type": "code",
   "execution_count": 18,
   "metadata": {},
   "outputs": [
    {
     "name": "stdout",
     "output_type": "stream",
     "text": [
      "array([ 2.03, -2.65])\n"
     ]
    }
   ],
   "source": [
    "#Resolvemos el sistema R*beta = Q^T*y\n",
    "beta = np.linalg.solve(R,Q.T@y)\n",
    "pprint.pprint(beta)"
   ]
  },
  {
   "cell_type": "markdown",
   "metadata": {},
   "source": [
    "$$p_{1}(x) = -2.65x + 2.03$$"
   ]
  },
  {
   "cell_type": "code",
   "execution_count": 19,
   "metadata": {},
   "outputs": [],
   "source": [
    "y_ajustadas_QR = A@beta\n",
    "#obsérvese que la línea anterior es equivalente a realizar:y_ajustadas_QR = beta[0] + beta[1]*x"
   ]
  },
  {
   "cell_type": "code",
   "execution_count": 20,
   "metadata": {},
   "outputs": [
    {
     "data": {
      "image/png": "[encoded data removed]",
      "text/plain": [
       "<Figure size 432x288 with 1 Axes>"
      ]
     },
     "metadata": {
      "needs_background": "light"
     },
     "output_type": "display_data"
    }
   ],
   "source": [
    "plt.plot(x, y_ajustadas_QR , 'k-',x, y, 'r*')\n",
    "plt.legend(['modelo lineal','datos'], loc='best')\n",
    "plt.grid(True)"
   ]
  },
  {
   "cell_type": "markdown",
   "metadata": {},
   "source": [
    "# Modelo sin intercepto"
   ]
  },
  {
   "cell_type": "markdown",
   "metadata": {},
   "source": [
    "Se ajusta un modelo de la forma: $f(x|\\beta) = \\beta_1 x$ a los datos $(x_i,y_i)$'s $\\forall i=0,1,\\dots,m$.\n",
    "\n",
    "Obs: En este caso se elige $\\phi_1(x) =x$ y no hay $\\phi_0$ por lo que sólo se tiene que estimar $\\beta_1$.\n",
    "\n",
    "Ejemplo numérico en numpy:\n",
    "Ejercicio: realizar el ajuste correspondiente para este caso con QR."
   ]
  },
  {
   "cell_type": "code",
   "execution_count": 15,
   "metadata": {},
   "outputs": [],
   "source": [
    "np.random.seed(1989) #Semilla para que salgan los mismos números\n",
    "mpoints =20\n",
    "x = np.random.randn(mpoints) \n",
    "y = -3*x+np.random.normal(2,1,mpoints)"
   ]
  },
  {
   "cell_type": "code",
   "execution_count": 16,
   "metadata": {},
   "outputs": [],
   "source": [
    "#construimos a la matriz A:\n",
    "mpoints\n",
    "A=np.ones((mpoints,1))"
   ]
  },
  {
   "cell_type": "code",
   "execution_count": 17,
   "metadata": {},
   "outputs": [
    {
     "data": {
      "text/plain": [
       "array([[-0.26],\n",
       "       [ 0.09],\n",
       "       [ 0.43],\n",
       "       [ 0.9 ],\n",
       "       [ 0.56],\n",
       "       [ 0.44],\n",
       "       [ 0.38],\n",
       "       [-0.15],\n",
       "       [ 0.78],\n",
       "       [-0.02],\n",
       "       [ 1.61],\n",
       "       [-0.37],\n",
       "       [ 0.36],\n",
       "       [ 0.17],\n",
       "       [ 2.52],\n",
       "       [ 0.14],\n",
       "       [ 1.16],\n",
       "       [ 0.59],\n",
       "       [-1.2 ],\n",
       "       [-0.37]])"
      ]
     },
     "execution_count": 17,
     "metadata": {},
     "output_type": "execute_result"
    }
   ],
   "source": [
    "A[:,0] = x\n",
    "A"
   ]
  },
  {
   "cell_type": "code",
   "execution_count": 18,
   "metadata": {},
   "outputs": [],
   "source": [
    "#Resolvemos el sistema\n",
    "Q,R = np.linalg.qr(A)"
   ]
  },
  {
   "cell_type": "code",
   "execution_count": 19,
   "metadata": {},
   "outputs": [
    {
     "name": "stdout",
     "output_type": "stream",
     "text": [
      "array([-1.6])\n"
     ]
    }
   ],
   "source": [
    "#Resolvemos el sistema R*beta = Q^T*y\n",
    "beta_1= np.linalg.solve(R,Q.T@y)\n",
    "pprint.pprint(beta_1)"
   ]
  },
  {
   "cell_type": "code",
   "execution_count": 25,
   "metadata": {},
   "outputs": [
    {
     "data": {
      "image/png": "[encoded data removed]",
      "text/plain": [
       "<Figure size 432x288 with 1 Axes>"
      ]
     },
     "metadata": {
      "needs_background": "light"
     },
     "output_type": "display_data"
    }
   ],
   "source": [
    "y_ajustadas_QR = A@beta_1\n",
    "plt.plot(x, y_ajustadas_QR , 'k-',x, y, 'r*')\n",
    "plt.legend(['modelo lineal','datos'], loc='best')\n",
    "plt.grid(True)"
   ]
  },
  {
   "cell_type": "markdown",
   "metadata": {},
   "source": [
    "Una vez hecho el ajuste...\n",
    "Se realiza un análisis de residuales, se hace una gráfica el modelo si las dimensiones en las que se está trabajando lo permiten y se calcula el error cuadrático medio.\n",
    "\n",
    "Si $\\hat{y}_i$ es el valor ajustado para el dato $x_i$, esto es: $\\hat{y}_i = f(x_i|\\hat{\\beta}) = \\displaystyle \\sum_{i=0}^m \\left (y_i -\\displaystyle \\sum_{j=0}^n\\hat{\\beta}_j\\phi_j(x_i)\\right )^2$ el residual $i$ es: $r_i = y_i - \\hat{y}_i$ y representa la discrepancia entre los datos y el modelo.\n",
    "\n",
    "El error cuadrático medio se calcula como: $$ECM(\\hat{y}) = \\frac{1}{m} \\displaystyle \\sum_{i=0}^m(y_i-\\hat{y}_i)^2$$\n",
    "\n",
    "Ejercicio: calcular el ECM de los ajustes anteriores."
   ]
  },
  {
   "cell_type": "code",
   "execution_count": 31,
   "metadata": {},
   "outputs": [],
   "source": [
    "#Definimos la función de errores\n",
    "def ercm(y,y_gorro):\n",
    "    return sum((y-y_gorro)**2)"
   ]
  },
  {
   "cell_type": "code",
   "execution_count": 32,
   "metadata": {},
   "outputs": [
    {
     "name": "stdout",
     "output_type": "stream",
     "text": [
      "ECM: 20.435476838775884\n"
     ]
    }
   ],
   "source": [
    "y_gorro=A@beta\n",
    "ECM=ercm(y,y_gorro)\n",
    "print(\"ECM:\",ercm(y,y_gorro))"
   ]
  },
  {
   "cell_type": "code",
   "execution_count": 43,
   "metadata": {},
   "outputs": [
    {
     "name": "stdout",
     "output_type": "stream",
     "text": [
      "residuales: [ 2.73  1.8   0.89 -0.35  0.55  0.86  1.03  2.43 -0.03  2.09 -2.23  3.\n",
      "  1.09  1.58 -4.65  1.66 -1.05  0.47  5.22  3.02]\n"
     ]
    }
   ],
   "source": [
    "#Residuales\n",
    "print(\"residuales:\",y_gorro)"
   ]
  },
  {
   "cell_type": "code",
   "execution_count": 49,
   "metadata": {},
   "outputs": [
    {
     "data": {
      "text/plain": [
       "Text(0.5, 1.0, 'Residuales')"
      ]
     },
     "execution_count": 49,
     "metadata": {},
     "output_type": "execute_result"
    },
    {
     "data": {
      "image/png": "[encoded data removed]",
      "text/plain": [
       "<Figure size 432x288 with 1 Axes>"
      ]
     },
     "metadata": {
      "needs_background": "light"
     },
     "output_type": "display_data"
    }
   ],
   "source": [
    "plt.plot(y-y_gorro)\n",
    "plt.title('Residuales')"
   ]
  },
  {
   "cell_type": "markdown",
   "metadata": {},
   "source": [
    "Ejemplo: ajuste de un modelo por mínimos cuadrados lineales con funciones $\\phi_j$'s no lineales\n",
    "Obsérvese que el modelo que se ha utilizado: $f(x|\\beta) = \\displaystyle \\sum_{j=0}^n\\beta_j\\phi_j(x)$ permite elegir las $\\phi_j$'s como funciones de $\\mathbb{R}$ a $\\mathbb{R}$. Por lo que tenemos una amplia gama de posibilidades de ajuste de curvas a datos.\n",
    "\n",
    "Como ejemplo utilizaremos el conjunto de datos \"datos_para_ipynb_3_minimos_cuadrados.txt\" el cual lo pueden descargar en el mismo directorio de este ipynb o bien dando click aquí y ajustaremos tres modelos de la forma:\n",
    "$$f_1(x|\\beta) = \\beta_0 + \\beta_1 \\frac{x}{x+1}$$\n",
    "$$f_2(x|\\beta) = \\beta_0 + \\beta_1x + \\beta_2x^2$$\n",
    "$$f_3(x|\\beta) = \\beta_0 + \\beta_1\\text{log}(x+1)$$"
   ]
  },
  {
   "cell_type": "code",
   "execution_count": 50,
   "metadata": {},
   "outputs": [],
   "source": [
    "import numpy as np\n",
    "import matplotlib.pyplot as plt\n",
    "import pprint\n",
    "np.set_printoptions(precision = 2) #sólo dos decimales que se muestren"
   ]
  },
  {
   "cell_type": "code",
   "execution_count": 53,
   "metadata": {},
   "outputs": [],
   "source": [
    "datos = np.loadtxt('datos_para_ipynb_3_minimos_cuadrados.txt', skiprows=1)"
   ]
  },
  {
   "cell_type": "code",
   "execution_count": 68,
   "metadata": {},
   "outputs": [
    {
     "data": {
      "text/plain": [
       "Text(0.5, 1.0, 'datos')"
      ]
     },
     "execution_count": 68,
     "metadata": {},
     "output_type": "execute_result"
    },
    {
     "data": {
      "image/png": "[encoded data removed]",
      "text/plain": [
       "<Figure size 432x288 with 1 Axes>"
      ]
     },
     "metadata": {
      "needs_background": "light"
     },
     "output_type": "display_data"
    }
   ],
   "source": [
    "x = datos[:,0]\n",
    "y = datos[:,1]\n",
    "plt.plot(x, y, 'r^')\n",
    "plt.legend(['datos'], loc='best')\n",
    "plt.title('datos')"
   ]
  },
  {
   "cell_type": "markdown",
   "metadata": {},
   "source": [
    "## Modelo 1"
   ]
  },
  {
   "cell_type": "markdown",
   "metadata": {},
   "source": [
    "$$f_1(x|\\beta) = \\beta_0 + \\beta_1 \\frac{x}{x+1}$$"
   ]
  },
  {
   "cell_type": "code",
   "execution_count": 136,
   "metadata": {},
   "outputs": [
    {
     "name": "stdout",
     "output_type": "stream",
     "text": [
      "betas\n",
      "array([-1.3,  6.2])\n"
     ]
    }
   ],
   "source": [
    "#Modelo1\n",
    "mod1=lambda var: var/(var+1) \n",
    "mpoints,=x.shape\n",
    "A=np.ones((mpoints,2))\n",
    "A[:,1]=mod1(x)\n",
    "Q,R=np.linalg.qr(A)\n",
    "betas= np.linalg.solve(R,Q.T@y)\n",
    "print('betas')\n",
    "pprint.pprint(betas)"
   ]
  },
  {
   "cell_type": "code",
   "execution_count": 137,
   "metadata": {
    "scrolled": true
   },
   "outputs": [
    {
     "data": {
      "text/plain": [
       "<matplotlib.legend.Legend at 0x1156a66a0>"
      ]
     },
     "execution_count": 137,
     "metadata": {},
     "output_type": "execute_result"
    },
    {
     "data": {
      "image/png": "[encoded data removed]",
      "text/plain": [
       "<Figure size 432x288 with 1 Axes>"
      ]
     },
     "metadata": {
      "needs_background": "light"
     },
     "output_type": "display_data"
    }
   ],
   "source": [
    "y_gorro1_QR=A@betas\n",
    "plt.plot(x, y_gorro1_QR , 'k-',x, y, 'r^')\n",
    "plt.legend(['modelo1','datos'], loc='best')"
   ]
  },
  {
   "cell_type": "markdown",
   "metadata": {},
   "source": [
    "## Modelo 2"
   ]
  },
  {
   "cell_type": "markdown",
   "metadata": {},
   "source": [
    "$$f_2(x|\\beta) = \\beta_0 + \\beta_1x + \\beta_2x^2$$"
   ]
  },
  {
   "cell_type": "code",
   "execution_count": 79,
   "metadata": {},
   "outputs": [
    {
     "name": "stdout",
     "output_type": "stream",
     "text": [
      "array([-0.69,  3.39, -0.92])\n"
     ]
    }
   ],
   "source": [
    "#Modelo 2\n",
    "ngrado=2\n",
    "coeficientes=np.polyfit(x,y,ngrado)\n",
    "pprint.pprint(coeficientes) #Betas"
   ]
  },
  {
   "cell_type": "code",
   "execution_count": 97,
   "metadata": {},
   "outputs": [],
   "source": [
    "y_gorro2_numpy =coeficientes[2]+coeficientes[1]*x+coeficientes[0]*x**2"
   ]
  },
  {
   "cell_type": "code",
   "execution_count": 98,
   "metadata": {},
   "outputs": [
    {
     "data": {
      "text/plain": [
       "<matplotlib.legend.Legend at 0x114e0d4e0>"
      ]
     },
     "execution_count": 98,
     "metadata": {},
     "output_type": "execute_result"
    },
    {
     "data": {
      "image/png": "[encoded data removed]",
      "text/plain": [
       "<Figure size 432x288 with 1 Axes>"
      ]
     },
     "metadata": {
      "needs_background": "light"
     },
     "output_type": "display_data"
    }
   ],
   "source": [
    "plt.plot(x,y_gorro2_numpy, 'k-',x, y, 'r*')\n",
    "plt.legend(['modelo polinomio cuadrático','datos'], loc='best')"
   ]
  },
  {
   "cell_type": "markdown",
   "metadata": {},
   "source": [
    "## Modelo 3"
   ]
  },
  {
   "cell_type": "markdown",
   "metadata": {},
   "source": [
    "Ejercicio: ajustar el modelo 3. Calcular ECM de cada modelo y realizar en una sola gráfica los tres modelos. ¿Cuál es el modelo con menor ECM?"
   ]
  },
  {
   "cell_type": "markdown",
   "metadata": {},
   "source": [
    "$$f_3(x|\\beta) = \\beta_0 + \\beta_1\\text{log}(x+1)$$"
   ]
  },
  {
   "cell_type": "code",
   "execution_count": 129,
   "metadata": {},
   "outputs": [
    {
     "name": "stdout",
     "output_type": "stream",
     "text": [
      "betas\n",
      "array([-0.98,  3.96])\n"
     ]
    }
   ],
   "source": [
    "#Modelo3\n",
    "mod3=lambda var: np.log(var+1) \n",
    "mpoints,=x.shape\n",
    "A3=np.ones((mpoints,2))\n",
    "A3[:,1]=mod3(x)\n",
    "Q,R=np.linalg.qr(A3)\n",
    "betas_3= np.linalg.solve(R,Q.T@y)\n",
    "print('betas')\n",
    "pprint.pprint(betas_3)"
   ]
  },
  {
   "cell_type": "code",
   "execution_count": 130,
   "metadata": {},
   "outputs": [
    {
     "data": {
      "text/plain": [
       "<matplotlib.legend.Legend at 0x1155c3208>"
      ]
     },
     "execution_count": 130,
     "metadata": {},
     "output_type": "execute_result"
    },
    {
     "data": {
      "image/png": "[encoded data removed]",
      "text/plain": [
       "<Figure size 432x288 with 1 Axes>"
      ]
     },
     "metadata": {
      "needs_background": "light"
     },
     "output_type": "display_data"
    }
   ],
   "source": [
    "y_gorro3_QR=A3@betas_3\n",
    "plt.plot(x,y_gorro3_QR,'k-',x,y,'b.')\n",
    "plt.legend(['modelo3','datos'], loc='best')"
   ]
  },
  {
   "cell_type": "code",
   "execution_count": 138,
   "metadata": {},
   "outputs": [
    {
     "name": "stdout",
     "output_type": "stream",
     "text": [
      "ECM1: 14.65607144034016\n",
      "ECM2: 11.974386376666102\n",
      "ECM3: 12.041297818937322\n"
     ]
    }
   ],
   "source": [
    "#Errores cuadraticos medios\n",
    "def ECM1(y,y_gorro1_QR):\n",
    "    return sum((y-y_gorro1_QR)**2)\n",
    "def ECM2(y,y_gorro2_numpy):\n",
    "    return sum((y-y_gorro2_numpy)**2)\n",
    "def ECM3(y,y_gorro3_QR):\n",
    "    return sum((y-y_gorro3_QR)**2)\n",
    "print(\"ECM1:\",ECM1(y,y_gorro1_QR))\n",
    "print(\"ECM2:\",ECM2(y,y_gorro2_numpy))\n",
    "print(\"ECM3:\",ECM1(y,y_gorro3_QR))"
   ]
  },
  {
   "cell_type": "code",
   "execution_count": 152,
   "metadata": {},
   "outputs": [
    {
     "data": {
      "text/plain": [
       "[<matplotlib.lines.Line2D at 0x115ff96a0>,\n",
       " <matplotlib.lines.Line2D at 0x115ff9ac8>]"
      ]
     },
     "execution_count": 152,
     "metadata": {},
     "output_type": "execute_result"
    },
    {
     "data": {
      "image/png": "[encoded data removed]",
      "text/plain": [
       "<Figure size 432x288 with 1 Axes>"
      ]
     },
     "metadata": {
      "needs_background": "light"
     },
     "output_type": "display_data"
    }
   ],
   "source": [
    "#Grafica de los 3 modelos\n",
    "plt.plot(x, y_gorro1_QR , 'k-')\n",
    "plt.plot(x,y_gorro2_numpy, 'y-')\n",
    "plt.plot(x,y_gorro3_QR,'r-',x,y,'b.')"
   ]
  },
  {
   "cell_type": "code",
   "execution_count": null,
   "metadata": {},
   "outputs": [],
   "source": []
  }
 ],
 "metadata": {
  "kernelspec": {
   "display_name": "Python 3",
   "language": "python",
   "name": "python3"
  }
 },
 "nbformat": 4,
 "nbformat_minor": 2
}
