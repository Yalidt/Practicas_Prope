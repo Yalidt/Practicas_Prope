{
 "cells": [
  {
   "cell_type": "markdown",
   "metadata": {},
   "source": [
    "Ejercicio: resolver el ejercicio 3) anterior con la factorización QR del paquete numpy de la matriz A y verificar resultado $A$: $$A = \\begin{bmatrix} 2& -1& 2 \\\\ 1& 6& -1 \\\\ 1& 4& 1\\end{bmatrix}$$\n",
    "\n",
    "y utilizarlos para resolver $Ax = B$ con $$B=\\begin{bmatrix}7 & -1\\\\13 & 6\\\\5 & 7\\end{bmatrix}$$"
   ]
  },
  {
   "cell_type": "code",
   "execution_count": 6,
   "metadata": {},
   "outputs": [],
   "source": [
    "import numpy as np\n",
    "import pprint\n",
    "import scipy\n",
    "import scipy\n",
    "import scipy.linalg"
   ]
  },
  {
   "cell_type": "code",
   "execution_count": 7,
   "metadata": {},
   "outputs": [
    {
     "name": "stdout",
     "output_type": "stream",
     "text": [
      "A\n",
      "array([[ 2, -1,  2],\n",
      "       [ 1,  6, -1],\n",
      "       [ 1,  4,  1]])\n",
      "B\n",
      "array([[ 7, -1],\n",
      "       [13,  6],\n",
      "       [ 5,  7]])\n"
     ]
    }
   ],
   "source": [
    "#Con Factorización QR\n",
    "A=np.array([[2,-1,2],[1,6,-1],[1,4,1]])\n",
    "print('A')\n",
    "pprint.pprint(A)\n",
    "B=np.array([[7,-1],[13,6],[5,7]])\n",
    "print('B')\n",
    "pprint.pprint(B)"
   ]
  },
  {
   "cell_type": "code",
   "execution_count": 8,
   "metadata": {},
   "outputs": [],
   "source": [
    "Q,R=scipy.linalg.qr(A)"
   ]
  },
  {
   "cell_type": "code",
   "execution_count": 9,
   "metadata": {},
   "outputs": [
    {
     "name": "stdout",
     "output_type": "stream",
     "text": [
      "Q\n",
      "array([[-0.81649658,  0.56354707, -0.12549116],\n",
      "       [-0.40824829, -0.71724173, -0.56471022],\n",
      "       [-0.40824829, -0.40985242,  0.81569255]])\n",
      "R\n",
      "array([[-2.44948974, -3.26598632, -1.63299316],\n",
      "       [ 0.        , -6.5064071 ,  1.43448345],\n",
      "       [ 0.        ,  0.        ,  1.12942045]])\n"
     ]
    }
   ],
   "source": [
    "print('Q')\n",
    "pprint.pprint(Q)\n",
    "print('R')\n",
    "pprint.pprint(R)"
   ]
  },
  {
   "cell_type": "code",
   "execution_count": 10,
   "metadata": {},
   "outputs": [
    {
     "name": "stdout",
     "output_type": "stream",
     "text": [
      "X\n",
      "array([[ 2.        ,  5.32289624,  0.28662395],\n",
      "       [-1.38040277,  2.82612964, -2.4120356 ],\n",
      "       [ 0.30738931,  4.08408703,  0.31611858]])\n"
     ]
    }
   ],
   "source": [
    "X=np.linalg.solve(Q,R) #Resuelve el sistema de ecuaciones\n",
    "print('X')\n",
    "pprint.pprint(X)"
   ]
  },
  {
   "cell_type": "code",
   "execution_count": 11,
   "metadata": {},
   "outputs": [
    {
     "name": "stdout",
     "output_type": "stream",
     "text": [
      "[[ 2. -1.  2.]\n",
      " [ 1.  6. -1.]\n",
      " [ 1.  4.  1.]]\n"
     ]
    }
   ],
   "source": [
    "#Comprobacion que QR es igual a A\n",
    "print(Q@R)"
   ]
  },
  {
   "cell_type": "markdown",
   "metadata": {},
   "source": [
    "Ejercicio: resolver los sistemas de ecuaciones lineales $Ax = b$ con la factorización P, LU y verificar resultado\n",
    "$$1)A = \\left[\\begin{array}{ccc}\n",
    "0 &1& -1\\\\\n",
    "-2 &4& -1\\\\\n",
    "-2 &5& -4\n",
    "\\end{array}\n",
    "\\right],\n",
    "b=\n",
    "\\left[\\begin{array}{c}\n",
    "3\\\\\n",
    "1\\\\\n",
    "-2\n",
    "\\end{array}\n",
    "\\right] \n",
    "$$\n",
    "$$2)A \\text{ como inciso 1) y } \n",
    "b=\n",
    "\\left[\\begin{array}{c}\n",
    "-5\\\\\n",
    "7\\\\\n",
    "0\n",
    "\\end{array}\n",
    "\\right] \n",
    "$$\n",
    "$$3)A = \\left[\\begin{array}{cccc}\n",
    "1 &2& 2\\\\\n",
    "2 &5& 7\\\\\n",
    "3 &6& 6\n",
    "\\end{array}\n",
    "\\right],\n",
    "b=\n",
    "\\left[\\begin{array}{c}\n",
    "0\\\\\n",
    "0\\\\\n",
    "0\n",
    "\\end{array}\n",
    "\\right] \n",
    "$$"
   ]
  },
  {
   "cell_type": "code",
   "execution_count": 12,
   "metadata": {},
   "outputs": [
    {
     "name": "stdout",
     "output_type": "stream",
     "text": [
      "A:\n",
      "array([[ 0,  1, -1],\n",
      "       [-2,  4, -1],\n",
      "       [-2,  5, -4]])\n",
      "P:\n",
      "array([[0., 1., 0.],\n",
      "       [1., 0., 0.],\n",
      "       [0., 0., 1.]])\n",
      "L:\n",
      "array([[ 1.,  0.,  0.],\n",
      "       [-0.,  1.,  0.],\n",
      "       [ 1.,  1.,  1.]])\n",
      "U:\n",
      "array([[-2.,  4., -1.],\n",
      "       [ 0.,  1., -1.],\n",
      "       [ 0.,  0., -2.]])\n"
     ]
    }
   ],
   "source": [
    "#Inciso 1\n",
    "A=scipy.array([[0,1,-1], [-2,4,-1], [-2,5,-4]])\n",
    "P, L, U =scipy.linalg.lu(A)\n",
    "print('A:')\n",
    "pprint.pprint(A)\n",
    "print('P:')\n",
    "pprint.pprint(P)\n",
    "print('L:')\n",
    "pprint.pprint(L)\n",
    "print('U:')\n",
    "pprint.pprint(U)"
   ]
  },
  {
   "cell_type": "code",
   "execution_count": 13,
   "metadata": {},
   "outputs": [
    {
     "name": "stdout",
     "output_type": "stream",
     "text": [
      "Verificacion\n",
      "L*U:\n",
      "array([[-2.,  4., -1.],\n",
      "       [ 0.,  1., -1.],\n",
      "       [-2.,  5., -4.]])\n",
      "P*A\n",
      "array([[-2.,  4., -1.],\n",
      "       [ 0.,  1., -1.],\n",
      "       [-2.,  5., -4.]])\n"
     ]
    }
   ],
   "source": [
    "#Ver que PA = LU\n",
    "print('Verificacion')\n",
    "print('L*U:')\n",
    "pprint.pprint(L@U)\n",
    "print('P*A')\n",
    "pprint.pprint(P@A)"
   ]
  },
  {
   "cell_type": "code",
   "execution_count": 19,
   "metadata": {},
   "outputs": [
    {
     "name": "stdout",
     "output_type": "stream",
     "text": [
      "array([10.,  6.,  3.])\n"
     ]
    }
   ],
   "source": [
    "#Resolvemos el sistema de ecuaciones\n",
    "B = scipy.array([3,1,-2])\n",
    "C = scipy.linalg.solve_triangular(L,P@B,lower=True)\n",
    "X = scipy.linalg.solve_triangular(U,C)\n",
    "pprint.pprint(X)"
   ]
  },
  {
   "cell_type": "code",
   "execution_count": 20,
   "metadata": {},
   "outputs": [
    {
     "name": "stdout",
     "output_type": "stream",
     "text": [
      "B:\n",
      "array([ 3,  1, -2])\n",
      "AX:\n",
      "array([ 3.,  1., -2.])\n"
     ]
    }
   ],
   "source": [
    "#Comprobacion del resultado\n",
    "print('B:')\n",
    "pprint.pprint(B)\n",
    "print('AX:')\n",
    "pprint.pprint(A@X)"
   ]
  },
  {
   "cell_type": "code",
   "execution_count": 21,
   "metadata": {},
   "outputs": [
    {
     "name": "stdout",
     "output_type": "stream",
     "text": [
      "A:\n",
      "array([[ 0,  1, -1],\n",
      "       [-2,  4, -1],\n",
      "       [-2,  5, -4]])\n",
      "P:\n",
      "array([[0., 1., 0.],\n",
      "       [1., 0., 0.],\n",
      "       [0., 0., 1.]])\n",
      "L:\n",
      "array([[ 1.,  0.,  0.],\n",
      "       [-0.,  1.,  0.],\n",
      "       [ 1.,  1.,  1.]])\n",
      "U:\n",
      "array([[-2.,  4., -1.],\n",
      "       [ 0.,  1., -1.],\n",
      "       [ 0.,  0., -2.]])\n"
     ]
    }
   ],
   "source": [
    "#Inciso 2\n",
    "A=scipy.array([[0,1,-1], [-2,4,-1], [-2,5,-4]])\n",
    "P, L, U =scipy.linalg.lu(A)\n",
    "print('A:')\n",
    "pprint.pprint(A)\n",
    "print('P:')\n",
    "pprint.pprint(P)\n",
    "print('L:')\n",
    "pprint.pprint(L)\n",
    "print('U:')\n",
    "pprint.pprint(U)"
   ]
  },
  {
   "cell_type": "code",
   "execution_count": 22,
   "metadata": {},
   "outputs": [
    {
     "name": "stdout",
     "output_type": "stream",
     "text": [
      "Verificacion\n",
      "L*U:\n",
      "array([[-2.,  4., -1.],\n",
      "       [ 0.,  1., -1.],\n",
      "       [-2.,  5., -4.]])\n",
      "P*A\n",
      "array([[-2.,  4., -1.],\n",
      "       [ 0.,  1., -1.],\n",
      "       [-2.,  5., -4.]])\n"
     ]
    }
   ],
   "source": [
    "#Ver que PA = LU\n",
    "print('Verificacion')\n",
    "print('L*U:')\n",
    "pprint.pprint(L@U)\n",
    "print('P*A')\n",
    "pprint.pprint(P@A)"
   ]
  },
  {
   "cell_type": "code",
   "execution_count": 23,
   "metadata": {},
   "outputs": [
    {
     "name": "stdout",
     "output_type": "stream",
     "text": [
      "array([-12.,  -4.,   1.])\n"
     ]
    }
   ],
   "source": [
    "#Resolvemos el sistema de ecuaciones\n",
    "B = scipy.array([-5,7,0])\n",
    "C = scipy.linalg.solve_triangular(L,P@B,lower=True)\n",
    "X = scipy.linalg.solve_triangular(U,C)\n",
    "pprint.pprint(X)"
   ]
  },
  {
   "cell_type": "code",
   "execution_count": 24,
   "metadata": {},
   "outputs": [
    {
     "name": "stdout",
     "output_type": "stream",
     "text": [
      "B:\n",
      "array([-5,  7,  0])\n",
      "AX:\n",
      "array([-5.,  7.,  0.])\n"
     ]
    }
   ],
   "source": [
    "#Comprobacion del resultado\n",
    "print('B:')\n",
    "pprint.pprint(B)\n",
    "print('AX:')\n",
    "pprint.pprint(A@X)"
   ]
  },
  {
   "cell_type": "code",
   "execution_count": 35,
   "metadata": {},
   "outputs": [
    {
     "name": "stdout",
     "output_type": "stream",
     "text": [
      "A:\n",
      "array([[2, 1, 1],\n",
      "       [2, 5, 7],\n",
      "       [3, 6, 6]])\n",
      "B:\n",
      "array([0, 0, 0])\n"
     ]
    }
   ],
   "source": [
    "#Inciso 3 Método Normal\n",
    "A = np.array([[2,1,1], [2,5,7], [3,6,6]])\n",
    "B = np.array([0,0,0])\n",
    "print('A:')\n",
    "pprint.pprint(A)\n",
    "print('B:')\n",
    "pprint.pprint(B)"
   ]
  },
  {
   "cell_type": "code",
   "execution_count": 36,
   "metadata": {},
   "outputs": [
    {
     "name": "stdout",
     "output_type": "stream",
     "text": [
      "X:\n",
      "array([ 0., -0.,  0.])\n"
     ]
    }
   ],
   "source": [
    "X=np.linalg.solve(A,B)\n",
    "print('X:')\n",
    "pprint.pprint(X)"
   ]
  },
  {
   "cell_type": "code",
   "execution_count": 37,
   "metadata": {},
   "outputs": [
    {
     "name": "stdout",
     "output_type": "stream",
     "text": [
      "B:\n",
      "array([0, 0, 0])\n",
      "AX:\n",
      "array([0., 0., 0.])\n"
     ]
    }
   ],
   "source": [
    "#Comprobando Resultado\n",
    "print('B:')\n",
    "pprint.pprint(B)\n",
    "print('AX:')\n",
    "pprint.pprint(A@X)"
   ]
  },
  {
   "cell_type": "code",
   "execution_count": null,
   "metadata": {},
   "outputs": [],
   "source": []
  }
 ],
 "metadata": {
  "kernelspec": {
   "display_name": "Python 3",
   "language": "python",
   "name": "python3"
  },
  "language_info": {
   "codemirror_mode": {
    "name": "ipython",
    "version": 3
   },
   "file_extension": ".py",
   "mimetype": "text/x-python",
   "name": "python",
   "nbconvert_exporter": "python",
   "pygments_lexer": "ipython3",
   "version": "3.7.3"
  }
 },
 "nbformat": 4,
 "nbformat_minor": 2
}
