{
 "cells": [
  {
   "cell_type": "markdown",
   "metadata": {},
   "source": [
    "## Ejercicio: aproximar el valor de la integral\n",
    "\n",
    "$\\displaystyle \\int_0^{\\pi}sin(x)dx = 2$ con reglas compuestas del rectángulo y trapecio con un número de subintervalos $n \\in \\{1,10,20,30,40 \\}$ y hacer gráfica de la forma error relativo vs $n$ ($n$ en el eje horizontal)"
   ]
  },
  {
   "cell_type": "code",
   "execution_count": 1,
   "metadata": {},
   "outputs": [],
   "source": [
    "#Importamos Librerias\n",
    "import numpy as np\n",
    "from math import sin,pi"
   ]
  },
  {
   "cell_type": "code",
   "execution_count": 2,
   "metadata": {},
   "outputs": [],
   "source": [
    "#Definimos la funcion -> 1 Trapezio\n",
    "def trapezio_rule(f,a,b):\n",
    "    Area=(f(a)+f(b))*(b-a)/2\n",
    "    return Area"
   ]
  },
  {
   "cell_type": "code",
   "execution_count": 3,
   "metadata": {},
   "outputs": [
    {
     "name": "stdout",
     "output_type": "stream",
     "text": [
      "1.9236706937217898e-16\n"
     ]
    }
   ],
   "source": [
    "#Definimos la funcion objetivo\n",
    "f=lambda x: sin(x)\n",
    "a=0\n",
    "b=pi\n",
    "Int_Tra=trapezio_rule(f,a,b)\n",
    "print(Int_Tra)"
   ]
  },
  {
   "cell_type": "code",
   "execution_count": 4,
   "metadata": {},
   "outputs": [],
   "source": [
    "#Para N Trapezios\n",
    "import numpy as np\n",
    "def trapezio_rule_N(f,a,b,n):\n",
    "    h=(b-a)/n\n",
    "    x=np.arange(a,b,h)\n",
    "    sum_1=0.0\n",
    "    for i in range(1,n):\n",
    "        Area_N=((x[i]-x[i-1])/2)*(f(x[i])+f(x[i-1]))\n",
    "        sum_1=Area_N+sum_1\n",
    "    return sum_1"
   ]
  },
  {
   "cell_type": "code",
   "execution_count": 5,
   "metadata": {},
   "outputs": [
    {
     "name": "stdout",
     "output_type": "stream",
     "text": [
      "1.9958907290127421\n"
     ]
    }
   ],
   "source": [
    "#Definimos la funcion objetivo\n",
    "f=lambda x: sin(x)\n",
    "a=0\n",
    "b=pi\n",
    "n=40\n",
    "Int_Tra_comp=trapezio_rule_N(f,a,b,n)\n",
    "print(Int_Tra_comp)"
   ]
  },
  {
   "cell_type": "code",
   "execution_count": 6,
   "metadata": {},
   "outputs": [
    {
     "name": "stdout",
     "output_type": "stream",
     "text": [
      "Integración N=1 0.0\n",
      "Integración N=10 1.9349832615413178\n",
      "Integración N=20 1.9835996385552486\n",
      "Integración N=30 1.9926988638054426\n",
      "Integración N=40 1.9958907290127421\n"
     ]
    }
   ],
   "source": [
    "#Integrales con distintas N (TRAPECIO)\n",
    "Int_N_1=print(\"Integración N=1\",trapezio_rule_N(f,a,b,1))\n",
    "Int_N_10=print(\"Integración N=10\",trapezio_rule_N(f,a,b,10))\n",
    "Int_N_20=print(\"Integración N=20\",trapezio_rule_N(f,a,b,20))\n",
    "Int_N_30=print(\"Integración N=30\",trapezio_rule_N(f,a,b,30))\n",
    "Int_N_40=print(\"Integración N=40\",trapezio_rule_N(f,a,b,40))"
   ]
  },
  {
   "cell_type": "code",
   "execution_count": 7,
   "metadata": {},
   "outputs": [],
   "source": [
    "#Errores(Trapecio)\n",
    "def err_(real_value,trapezio_rule_N):\n",
    "    return np.abs((real_value-trapezio_rule_N)/real_value)"
   ]
  },
  {
   "cell_type": "code",
   "execution_count": 8,
   "metadata": {},
   "outputs": [
    {
     "name": "stdout",
     "output_type": "stream",
     "text": [
      "[1.         0.03250837 0.00820018 0.00365057 0.00205464]\n"
     ]
    }
   ],
   "source": [
    "real_value=2.0\n",
    "err_Int_vec=np.zeros(5)\n",
    "err_Int_vec[0]=err_(real_value,trapezio_rule_N(f,a,b,1))\n",
    "err_Int_vec[1]=err_(real_value,trapezio_rule_N(f,a,b,10))\n",
    "err_Int_vec[2]=err_(real_value,trapezio_rule_N(f,a,b,20))\n",
    "err_Int_vec[3]=err_(real_value,trapezio_rule_N(f,a,b,30))\n",
    "err_Int_vec[4]=err_(real_value,trapezio_rule_N(f,a,b,40))\n",
    "print(err_Int_vec)"
   ]
  },
  {
   "cell_type": "code",
   "execution_count": 16,
   "metadata": {},
   "outputs": [
    {
     "data": {
      "image/png": "[encoded data removed]",
      "text/plain": [
       "<Figure size 432x288 with 1 Axes>"
      ]
     },
     "metadata": {
      "needs_background": "light"
     },
     "output_type": "display_data"
    }
   ],
   "source": [
    "import matplotlib.pyplot as plt\n",
    "aux=[1,2,3,4,5]\n",
    "plt.plot(aux,err_Int_vec)\n",
    "plt.show()"
   ]
  },
  {
   "cell_type": "code",
   "execution_count": 10,
   "metadata": {},
   "outputs": [],
   "source": [
    "##Definimos la funcion -> Rectangulo\n",
    "import numpy as np\n",
    "def recta_rule_N(f,a,b,n):\n",
    "    h=(b-a)/n\n",
    "    x=np.arange(a,b,h)\n",
    "    sum_1=0.0\n",
    "    for i in range(1,n):\n",
    "        Area_N=(x[i]-x[i-1])*f(((x[i]+x[i-1])/2))\n",
    "        sum_1=Area_N+sum_1\n",
    "    return sum_1"
   ]
  },
  {
   "cell_type": "code",
   "execution_count": 11,
   "metadata": {},
   "outputs": [
    {
     "name": "stdout",
     "output_type": "stream",
     "text": [
      "0.0\n"
     ]
    }
   ],
   "source": [
    "#Definimos la funcion objetivo\n",
    "f=lambda x: sin(x)\n",
    "a=0\n",
    "b=pi\n",
    "n=1\n",
    "Int_Tra_comp=recta_rule_N(f,a,b,n)\n",
    "print(Int_Tra_comp)"
   ]
  },
  {
   "cell_type": "code",
   "execution_count": 12,
   "metadata": {},
   "outputs": [
    {
     "name": "stdout",
     "output_type": "stream",
     "text": [
      "Integración N=1 0.0\n",
      "Integración N=10 1.9591030712941107\n",
      "Integración N=20 1.989733322348122\n",
      "Integración N=30 1.9954335361162474\n",
      "Integración N=40 1.9974306756753564\n"
     ]
    }
   ],
   "source": [
    "#Integrales con distintas N\n",
    "Int_NC_1=print(\"Integración N=1\",recta_rule_N(f,a,b,1))\n",
    "Int_NC_10=print(\"Integración N=10\",recta_rule_N(f,a,b,10))\n",
    "Int_NC_20=print(\"Integración N=20\",recta_rule_N(f,a,b,20))\n",
    "Int_NC_30=print(\"Integración N=30\",recta_rule_N(f,a,b,30))\n",
    "Int_NC_40=print(\"Integración N=40\",recta_rule_N(f,a,b,40))"
   ]
  },
  {
   "cell_type": "code",
   "execution_count": 13,
   "metadata": {},
   "outputs": [],
   "source": [
    "#Errores(Rect)\n",
    "def err_Rec(r_val,recta_rule_N):\n",
    "     return np.abs((r_val-recta_rule_N)/r_val)"
   ]
  },
  {
   "cell_type": "code",
   "execution_count": 14,
   "metadata": {},
   "outputs": [
    {
     "name": "stdout",
     "output_type": "stream",
     "text": [
      "[1.         0.02044846 0.00513334 0.00228323 0.00128466]\n"
     ]
    }
   ],
   "source": [
    "r_val=2.0\n",
    "e_vecR=np.zeros(5)\n",
    "e_vecR[0]=err_Rec(r_val,recta_rule_N(f,a,b,1))\n",
    "e_vecR[1]=err_Rec(r_val,recta_rule_N(f,a,b,10))\n",
    "e_vecR[2]=err_Rec(r_val,recta_rule_N(f,a,b,20))\n",
    "e_vecR[3]=err_Rec(r_val,recta_rule_N(f,a,b,30))\n",
    "e_vecR[4]=err_Rec(r_val,recta_rule_N(f,a,b,40))\n",
    "print(e_vecR)"
   ]
  },
  {
   "cell_type": "code",
   "execution_count": 15,
   "metadata": {},
   "outputs": [
    {
     "data": {
      "text/plain": [
       "[<matplotlib.lines.Line2D at 0x112d4d2b0>]"
      ]
     },
     "execution_count": 15,
     "metadata": {},
     "output_type": "execute_result"
    },
    {
     "data": {
      "image/png": "[encoded data removed]",
      "text/plain": [
       "<Figure size 432x288 with 1 Axes>"
      ]
     },
     "metadata": {
      "needs_background": "light"
     },
     "output_type": "display_data"
    }
   ],
   "source": [
    "import matplotlib.pyplot as plt\n",
    "aux1=[1,2,3,4,5]\n",
    "plt.plot(aux1,e_vecR)"
   ]
  },
  {
   "cell_type": "code",
   "execution_count": null,
   "metadata": {},
   "outputs": [],
   "source": []
  }
 ],
 "metadata": {
  "kernelspec": {
   "display_name": "Python 3",
   "language": "python",
   "name": "python3"
  },
  "language_info": {
   "codemirror_mode": {
    "name": "ipython",
    "version": 3
   },
   "file_extension": ".py",
   "mimetype": "text/x-python",
   "name": "python",
   "nbconvert_exporter": "python",
   "pygments_lexer": "ipython3",
   "version": "3.7.3"
  }
 },
 "nbformat": 4,
 "nbformat_minor": 2
}
