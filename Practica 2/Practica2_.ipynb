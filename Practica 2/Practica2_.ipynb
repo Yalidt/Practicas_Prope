{
 "cells": [
  {
   "cell_type": "markdown",
   "metadata": {},
   "source": [
    "Yalidt Díaz 141394\n",
    "\n",
    "Practica 2 : Aproximación de Derivadas e Integrales"
   ]
  },
  {
   "cell_type": "markdown",
   "metadata": {},
   "source": [
    "Ejemplo:\n",
    "Aproximemos a la función $\\frac{1}{x}$ en el intervalo $[1,2]$ con polinomios de Taylor de orden $n$ con $n \\in \\{0,1,2\\}$ con centro en $x_0=1.5$. Los polinomios de Taylor son:\n",
    "$$P_0(x) = f(x_0) = \\frac{2}{3} \\quad \\text{(constante)}$$\n",
    "$$P_1(x) = f(x_0) + f^{(1)}(x_0)(x-x_0) = \\frac{2}{3} - \\frac{1}{x_0^2}(x-x_0) \\quad \\text{(lineal)}$$\n",
    "$$P_2(x) = f(x_0) + f^{(1)}(x_0)(x-x_0) + \\frac{f^{(2)}(x_0)(x-x_0)^2}{2} = \\frac{2}{3} - \\frac{1}{x_0^2}(x-x_0) + \\frac{2}{x_0^3}(x-x_0)^2 \\quad \\text{(cuadrático)}$$\n"
   ]
  },
  {
   "cell_type": "code",
   "execution_count": 13,
   "metadata": {},
   "outputs": [],
   "source": [
    "#Importación de librerías\n",
    "import numpy as np\n",
    "import matplotlib.pyplot as plt\n",
    "from numpy import arange"
   ]
  },
  {
   "cell_type": "code",
   "execution_count": 14,
   "metadata": {},
   "outputs": [],
   "source": [
    "#Definir el rango que abarcará la función y sus incrementos\n",
    "x=np.arange(1,2,.001)"
   ]
  },
  {
   "cell_type": "code",
   "execution_count": 15,
   "metadata": {},
   "outputs": [
    {
     "data": {
      "text/plain": [
       "(1000,)"
      ]
     },
     "execution_count": 15,
     "metadata": {},
     "output_type": "execute_result"
    }
   ],
   "source": [
    "#Nos indica el número de arreglos en x\n",
    "x.shape"
   ]
  },
  {
   "cell_type": "code",
   "execution_count": 16,
   "metadata": {},
   "outputs": [
    {
     "data": {
      "text/plain": [
       "array([1., 1., 1.])"
      ]
     },
     "execution_count": 16,
     "metadata": {},
     "output_type": "execute_result"
    }
   ],
   "source": [
    "#La función 2/3 necesita un vector n de UNOS para poder graficarse\n",
    "np.ones(3)\n",
    "#n, devuelve la tupla de los arreglos definidos"
   ]
  },
  {
   "cell_type": "code",
   "execution_count": 17,
   "metadata": {},
   "outputs": [],
   "source": [
    "#Definicion de funciones\n",
    "def func(x):\n",
    "    return 1/x\n",
    "def pcte(x):\n",
    "    n,=x.shape\n",
    "    aux = 2/3*np.ones(n)    #Para que se pueda graficar en todos los puntos(es la multiplicacion de unos por 2/3)\n",
    "    return aux\n",
    "def polin_1(x,x0):\n",
    "    return 2/3-(1/((x)**2))*(x-x0)\n",
    "def polin_2(x,x0):\n",
    "    return 2/3-(1/((x)**2))*(x-x0)+2/((x)**3)*((x-x0)**2)\n",
    "x0=1.5"
   ]
  },
  {
   "cell_type": "code",
   "execution_count": 18,
   "metadata": {
    "scrolled": false
   },
   "outputs": [
    {
     "data": {
      "text/plain": [
       "[<matplotlib.lines.Line2D at 0x1169fb518>]"
      ]
     },
     "execution_count": 18,
     "metadata": {},
     "output_type": "execute_result"
    },
    {
     "data": {
      "image/png": "[encoded data removed]",
      "text/plain": [
       "<Figure size 432x288 with 1 Axes>"
      ]
     },
     "metadata": {
      "needs_background": "light"
     },
     "output_type": "display_data"
    }
   ],
   "source": [
    "plt.plot(x,func(x))\n",
    "plt.plot(x,pcte(x))\n",
    "plt.plot(x,polin_1(x,x0))\n",
    "plt.plot(x,polin_2(x,x0))"
   ]
  },
  {
   "cell_type": "code",
   "execution_count": null,
   "metadata": {},
   "outputs": [],
   "source": [
    "#¿Cual es la aproximación de los polinomios en x=1.9"
   ]
  },
  {
   "cell_type": "code",
   "execution_count": 35,
   "metadata": {},
   "outputs": [
    {
     "name": "stdout",
     "output_type": "stream",
     "text": [
      "Polinomio_1(x) 0.5558633425669437\n",
      "Polinomio_2(x) 0.602517373766827\n"
     ]
    }
   ],
   "source": [
    "x= 1.9\n",
    "x0= 1.5\n",
    "aprox_polin_1=polin_1(x,x0)\n",
    "aprox_polin_2=polin_2(x,x0)\n",
    "print(\"Polinomio_1(x)\",aprox_polin_1)\n",
    "print(\"Polinomio_2(x)\",aprox_polin_2)"
   ]
  },
  {
   "cell_type": "markdown",
   "metadata": {},
   "source": [
    "Ejercicio: realizar una gráfica de log(error relativo) vs log(h) (h en el eje horizontal) para aproximar la segunda derivada de $f(x)=e^{-x}$ en $x=1$ con $h \\in \\{10^{-16}, 10^{-14}, \\dots , 10^{-1}\\}$ y diferencias hacia delante. Valor a aproximar: $f^{(2)}(1) = e^{-1}$. Usar:\n",
    "$$\\frac{d^2f(x)}{dx} \\approx \\frac{f(x+2h)-2f(x+h)+f(x)}{h^2}$$"
   ]
  },
  {
   "cell_type": "code",
   "execution_count": 71,
   "metadata": {},
   "outputs": [],
   "source": [
    "#Importamos librerias\n",
    "import Derivada\n",
    "import numpy as np\n",
    "import matplotlib.pyplot as plt\n",
    "import math"
   ]
  },
  {
   "cell_type": "code",
   "execution_count": 91,
   "metadata": {},
   "outputs": [
    {
     "name": "stdout",
     "output_type": "stream",
     "text": [
      "[-16 -15 -14 -13 -12 -11 -10  -9  -8  -7  -6  -5  -4  -3  -2  -1]\n",
      "[1.e-16 1.e-15 1.e-14 1.e-13 1.e-12 1.e-11 1.e-10 1.e-09 1.e-08 1.e-07\n",
      " 1.e-06 1.e-05 1.e-04 1.e-03 1.e-02 1.e-01]\n"
     ]
    }
   ],
   "source": [
    "#Definición de funciones\n",
    "f=lambda x: np.exp(-x)\n",
    "x=1\n",
    "aux2=np.arange(-16,0,1)  #La dimensión y sus incrementos\n",
    "print(aux2)\n",
    "h=np.power(10.0,aux2)  #Para generar el 10^-16...\n",
    "print(h)"
   ]
  },
  {
   "cell_type": "code",
   "execution_count": 92,
   "metadata": {},
   "outputs": [],
   "source": [
    "f_objetivo=math.exp(-1)    #Evaluación de la función en -1\n",
    "df_objetivo=-math.exp(x)    #La primera derivada de la función"
   ]
  },
  {
   "cell_type": "code",
   "execution_count": 93,
   "metadata": {},
   "outputs": [],
   "source": [
    "#Definimos los errores \n",
    "def error_relativo(p,p_ast):\n",
    "    return np.abs(p-p_ast)/math.fabs(p_ast)"
   ]
  },
  {
   "cell_type": "code",
   "execution_count": 94,
   "metadata": {},
   "outputs": [
    {
     "data": {
      "text/plain": [
       "-0.826917787364323"
      ]
     },
     "execution_count": 94,
     "metadata": {},
     "output_type": "execute_result"
    }
   ],
   "source": [
    "Derivada.aprox_derivada_hacia_adelante(f,.19,.0001)  #Ejemplo del calculo de la derivada"
   ]
  },
  {
   "cell_type": "code",
   "execution_count": 95,
   "metadata": {},
   "outputs": [],
   "source": [
    "df_aprox=Derivada.aprox_derivada_hacia_adelante(f,x,h)\n",
    "ddf_aprox=Derivada.aprox_2a_derivada_hacia_delante(f,x,h)\n",
    "err_df=error_relativo(df_aprox,df_objetivo)\n",
    "err_ddf=error_relativo(ddf_aprox,df_objetivo)"
   ]
  },
  {
   "cell_type": "code",
   "execution_count": 96,
   "metadata": {},
   "outputs": [
    {
     "data": {
      "text/plain": [
       "array([1.        , 0.83662871, 0.86521869, 0.86481026, 0.86464689,\n",
       "       0.86466527, 0.86466465, 0.86466469, 0.86466472, 0.86466472,\n",
       "       0.86466478, 0.86466539, 0.86467148, 0.86473236, 0.86533914,\n",
       "       0.87121145])"
      ]
     },
     "execution_count": 96,
     "metadata": {},
     "output_type": "execute_result"
    }
   ],
   "source": [
    "err_df"
   ]
  },
  {
   "cell_type": "code",
   "execution_count": 97,
   "metadata": {},
   "outputs": [
    {
     "data": {
      "text/plain": [
       "array([4.08428226e+15, 6.12642339e+13, 2.04214113e+11, 4.08428226e+09,\n",
       "       4.08428236e+07, 2.04213113e+05, 1.00000000e+00, 4.18428226e+01,\n",
       "       7.95785887e-01, 1.13886560e+00, 1.13531227e+00, 1.13533412e+00,\n",
       "       1.13532175e+00, 1.13520003e+00, 1.13398979e+00, 1.12255851e+00])"
      ]
     },
     "execution_count": 97,
     "metadata": {},
     "output_type": "execute_result"
    }
   ],
   "source": [
    "err_ddf"
   ]
  },
  {
   "cell_type": "code",
   "execution_count": 98,
   "metadata": {},
   "outputs": [
    {
     "data": {
      "text/plain": [
       "[<matplotlib.lines.Line2D at 0x116c4c6d8>]"
      ]
     },
     "execution_count": 98,
     "metadata": {},
     "output_type": "execute_result"
    },
    {
     "data": {
      "image/png": "[encoded data removed]",
      "text/plain": [
       "<Figure size 432x288 with 1 Axes>"
      ]
     },
     "metadata": {
      "needs_background": "light"
     },
     "output_type": "display_data"
    }
   ],
   "source": [
    "plt.plot(np.log(h),np.log(err_df))"
   ]
  },
  {
   "cell_type": "code",
   "execution_count": 99,
   "metadata": {},
   "outputs": [
    {
     "data": {
      "text/plain": [
       "[<matplotlib.lines.Line2D at 0x116dfe978>]"
      ]
     },
     "execution_count": 99,
     "metadata": {},
     "output_type": "execute_result"
    },
    {
     "data": {
      "image/png": "[encoded data removed]",
      "text/plain": [
       "<Figure size 432x288 with 1 Axes>"
      ]
     },
     "metadata": {
      "needs_background": "light"
     },
     "output_type": "display_data"
    }
   ],
   "source": [
    "plt.plot(np.log(h),np.log(err_ddf))"
   ]
  },
  {
   "cell_type": "code",
   "execution_count": 102,
   "metadata": {},
   "outputs": [
    {
     "data": {
      "text/plain": [
       "0.8366287096500916"
      ]
     },
     "execution_count": 102,
     "metadata": {},
     "output_type": "execute_result"
    }
   ],
   "source": [
    "err_df.min()"
   ]
  },
  {
   "cell_type": "code",
   "execution_count": 101,
   "metadata": {},
   "outputs": [
    {
     "data": {
      "text/plain": [
       "0.7957858870626144"
      ]
     },
     "execution_count": 101,
     "metadata": {},
     "output_type": "execute_result"
    }
   ],
   "source": [
    "err_ddf.min()"
   ]
  },
  {
   "cell_type": "markdown",
   "metadata": {},
   "source": [
    "Ejercicio: aproximar el valor de la integral $\\displaystyle \\int_0^{\\pi}sin(x)dx = 2$ con reglas compuestas del rectángulo y trapecio con un número de subintervalos $n \\in \\{1,10,20,30,40 \\}$ y hacer gráfica de la forma error relativo vs $n$ ($n$ en el eje horizontal)\n",
    "\n",
    "*Seccion 6.3 del libro "
   ]
  },
  {
   "cell_type": "code",
   "execution_count": 7,
   "metadata": {},
   "outputs": [],
   "source": [
    "#Importamos las librerias\n",
    "import scipy.integrate as integrate\n",
    "import numpy as np\n",
    "from numpy import sin\n",
    "from Trapezio import *\n",
    "import math"
   ]
  },
  {
   "cell_type": "code",
   "execution_count": 12,
   "metadata": {},
   "outputs": [],
   "source": [
    "#Definicion de Funciones\n",
    "from Trapezio import *\n",
    "def f(x): return sin(x);\n",
    "Iold = 0.0\n",
    "for k in range(1,40):\n",
    "    Inew = trapeziod(f,0.0,math.pi,Iold,k)  #utilizamos la funcion definida en el modulo.\n",
    "    if (k>1) and abs(Inew-Iold)<1.0e-6:break\n",
    "    Iold = Inew"
   ]
  },
  {
   "cell_type": "code",
   "execution_count": 13,
   "metadata": {
    "scrolled": true
   },
   "outputs": [
    {
     "name": "stdout",
     "output_type": "stream",
     "text": [
      "Integral trapezio 1.9999999019542685\n"
     ]
    }
   ],
   "source": [
    "import matplotlib.pyplot as plt\n",
    "print(\"Integral trapezio\",Inew)"
   ]
  }
 ],
 "metadata": {
  "kernelspec": {
   "display_name": "Python 3",
   "language": "python",
   "name": "python3"
  },
  "language_info": {
   "codemirror_mode": {
    "name": "ipython",
    "version": 3
   },
   "file_extension": ".py",
   "mimetype": "text/x-python",
   "name": "python",
   "nbconvert_exporter": "python",
   "pygments_lexer": "ipython3",
   "version": "3.7.3"
  }
 },
 "nbformat": 4,
 "nbformat_minor": 2
}
